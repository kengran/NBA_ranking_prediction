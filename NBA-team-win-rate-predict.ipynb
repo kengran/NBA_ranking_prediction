{
 "cells": [
  {
   "cell_type": "code",
   "execution_count": 34,
   "metadata": {},
   "outputs": [
    {
     "name": "stdout",
     "output_type": "stream",
     "text": [
      "time used: 19.57430410385132 seconds\n"
     ]
    }
   ],
   "source": [
    "# load all the json files\n",
    "\n",
    "import json\n",
    "from pprint import pprint\n",
    "import numpy as np\n",
    "import time\n",
    "import glob\n",
    "\n",
    "data = {}\n",
    "\n",
    "# the .json files are crawled by https://github.com/FranGoitia/basketball_reference\n",
    "path = [\n",
    "    \"/Users/hty/Google Drive/codes/basketball_reference/matches/united_states/nba/2003-2004/*.json\",\n",
    "    \"/Users/hty/Google Drive/codes/basketball_reference/matches/united_states/nba/2004-2005/*.json\",\n",
    "    \"/Users/hty/Google Drive/codes/basketball_reference/matches/united_states/nba/2005-2006/*.json\",\n",
    "    \"/Users/hty/Google Drive/codes/basketball_reference/matches/united_states/nba/2006-2007/*.json\",\n",
    "    \"/Users/hty/Google Drive/codes/basketball_reference/matches/united_states/nba/2007-2008/*.json\",\n",
    "    \"/Users/hty/Google Drive/codes/basketball_reference/matches/united_states/nba/2008-2009/*.json\",\n",
    "    \"/Users/hty/Google Drive/codes/basketball_reference/matches/united_states/nba/2009-2010/*.json\",\n",
    "    \"/Users/hty/Google Drive/codes/basketball_reference/matches/united_states/nba/2010-2011/*.json\",\n",
    "    \"/Users/hty/Google Drive/codes/basketball_reference/matches/united_states/nba/2011-2012/*.json\",\n",
    "    \"/Users/hty/Google Drive/codes/basketball_reference/matches/united_states/nba/2012-2013/*.json\",\n",
    "    \"/Users/hty/Google Drive/codes/basketball_reference/matches/united_states/nba/2013-2014/*.json\",\n",
    "    \"/Users/hty/Google Drive/codes/basketball_reference/matches/united_states/nba/2014-2015/*.json\",\n",
    "    \"/Users/hty/Google Drive/codes/basketball_reference/matches/united_states/nba/2015-2016/*.json\",\n",
    "    ]\n",
    "\n",
    "start = time.time()\n",
    "for season in path:\n",
    "    yearPos = season.find('20')\n",
    "    year = season[yearPos : yearPos + 9] # e.g. year = '2003-2004'\n",
    "    data[year] = {}\n",
    "    for filename in glob.glob(season):\n",
    "        with open(filename, 'r') as f:\n",
    "            game = filename[-1 - 4 - 12: -1 - 4]\n",
    "            data[year][game] = json.load(f)            \n",
    "            \n",
    "print (\"time used:\", time.time() - start, 'seconds')"
   ]
  },
  {
   "cell_type": "code",
   "execution_count": 35,
   "metadata": {},
   "outputs": [
    {
     "name": "stdout",
     "output_type": "stream",
     "text": [
      "['Sacramento Kings', 'New Jersey Nets', 'Charlotte Bobcats', 'Cleveland Cavaliers', 'Detroit Pistons', 'Memphis Grizzlies', 'Charlotte Hornets', 'Milwaukee Bucks', 'Houston Rockets', 'Chicago Bulls', 'Phoenix Suns', 'Oklahoma City Thunder', 'Denver Nuggets', 'Atlanta Hawks', 'Indiana Pacers', 'Dallas Mavericks', 'Portland Trail Blazers', 'Golden State Warriors', 'New Orleans/Oklahoma City Hornets', 'Los Angeles Lakers', 'New Orleans Pelicans', 'Miami Heat', 'Seattle SuperSonics', 'Toronto Raptors', 'San Antonio Spurs', 'Philadelphia 76ers', 'Minnesota Timberwolves', 'Washington Wizards', 'New York Knicks', 'Utah Jazz', 'Brooklyn Nets', 'New Orleans Hornets', 'Boston Celtics', 'Los Angeles Clippers', 'Orlando Magic']\n"
     ]
    }
   ],
   "source": [
    "# find out the names of all teams\n",
    "\n",
    "team_names = set()\n",
    "for season in (data.keys()):\n",
    "    for key in (data[season].keys()):\n",
    "        team_names.add(data[season][key]['home']['name'])\n",
    "\n",
    "team_name = list(team_names)\n",
    "\n",
    "print(team_name)"
   ]
  },
  {
   "cell_type": "code",
   "execution_count": 36,
   "metadata": {},
   "outputs": [
    {
     "name": "stderr",
     "output_type": "stream",
     "text": [
      "/Users/hty/anaconda3/lib/python3.7/site-packages/pandas/core/frame.py:6692: FutureWarning: Sorting because non-concatenation axis is not aligned. A future version\n",
      "of pandas will change to not sort by default.\n",
      "\n",
      "To accept the future behavior, pass 'sort=False'.\n",
      "\n",
      "To retain the current behavior and silence the warning, pass 'sort=True'.\n",
      "\n",
      "  sort=sort)\n"
     ]
    },
    {
     "name": "stdout",
     "output_type": "stream",
     "text": [
      "Features: Index(['STL%', 'FT', '2PA', 'FG', 'DRB', 'ORB%', 'AST', '3PAr', 'PF', 'FGA',\n",
      "       'DRBr', '2P', 'ORBr', 'TOV%', 'AST%', 'FTAr', 'FIC', 'eFG%', 'FG%',\n",
      "       '2PAr', '+/-', 'USG%', 'DRtg', '2P%', 'DRB%', 'ORtg', 'TRB%', 'ORB',\n",
      "       '3P', 'TOV', 'STL/TOV', 'TSA', 'AST/TOV', '3PA', 'BLK%', 'FT%', 'PTS',\n",
      "       'HOB', 'STL', 'TRB', 'FTA', 'BLK', 'FTr', 'TS%', 'FT/FGA', '3P%'],\n",
      "      dtype='object')\n",
      "time used: 268.3276557922363\n"
     ]
    }
   ],
   "source": [
    "# construct features matrix (X matrix)\n",
    "# this block takes a few minutes to run\n",
    "\n",
    "import pandas as pd\n",
    "\n",
    "# a holder\n",
    "df = {}\n",
    "X = {}\n",
    "\n",
    "# constructing labels (win: True; loss: False)\n",
    "win_counts = {}\n",
    "\n",
    "num_of_game_used_to_cal_ave = 82\n",
    "\n",
    "start = time.time()\n",
    "for name in team_name:\n",
    "    X[name] = pd.DataFrame()\n",
    "    win_counts[name] = {}\n",
    "    for season in sorted(data.keys()):\n",
    "    #     sas_data[season] = {}\n",
    "        df[season] = pd.DataFrame()\n",
    "        win_counts[name][season] = []\n",
    "        for game_id in (data[season].keys()):\n",
    "            if data[season][game_id]['home']['name'] == name:\n",
    "                \n",
    "                df_self = pd.DataFrame(data[season][game_id]['home']['totals'], index=[game_id])\n",
    "                df_opponent = pd.DataFrame(data[season][game_id]['away']['totals'], index=[game_id])\n",
    "                \n",
    "                # get the difference of the stats between two teams\n",
    "                df[season] = df[season].append(df_self - df_opponent)\n",
    "                \n",
    "                win_counts[name][season].append( \n",
    "                    data[season][game_id]['home']['totals']['PTS'] > data[season][game_id]['away']['totals']['PTS']\n",
    "                )\n",
    "                \n",
    "            elif data[season][game_id]['away']['name'] == name:\n",
    "\n",
    "                df_self = pd.DataFrame(data[season][game_id]['away']['totals'], index=[game_id])\n",
    "                df_opponent = pd.DataFrame(data[season][game_id]['home']['totals'], index=[game_id])\n",
    "                \n",
    "                df[season] = df[season].append(df_self -df_opponent)\n",
    "\n",
    "                win_counts[name][season].append( \n",
    "                    data[season][game_id]['home']['totals']['PTS'] < data[season][game_id]['away']['totals']['PTS']\n",
    "                )\n",
    "            \n",
    "    \n",
    "        if season != '2015-2016':\n",
    "            get_ave_stat = df[season].mean()\n",
    "        else:\n",
    "            # select the first X games to calculate the average stats for the season that we are predicting\n",
    "            get_ave_stat = df[season][0:num_of_game_used_to_cal_ave].mean()\n",
    "        \n",
    "        temp = get_ave_stat.to_frame(season)\n",
    "        get_ave_stat = temp.transpose()\n",
    "        X[name] = X[name].append(get_ave_stat)\n",
    "\n",
    "print(f\"Features: {X[team_name[0]].columns}\")\n",
    "print (\"time used:\", time.time() - start)\n"
   ]
  },
  {
   "cell_type": "code",
   "execution_count": 37,
   "metadata": {
    "scrolled": true
   },
   "outputs": [],
   "source": [
    "# transfer data to new team names\n",
    "\n",
    "X['Brooklyn Nets'][0:(len(path) - 4)] = X['New Jersey Nets'][0:(len(path) - 4)]\n",
    "X['New Orleans Hornets'][(len(path) - 11):(len(path) - 9)] = X['New Orleans/Oklahoma City Hornets'][(len(path) - 11):(len(path) - 9)]\n",
    "X['New Orleans Pelicans'][0:(len(path) - 3)] = X['New Orleans Hornets'][0:(len(path) - 3)]\n",
    "X['Charlotte Hornets'][0:(len(path) - 2)] = X['Charlotte Bobcats'][0:(len(path) - 2)]\n",
    "X['Oklahoma City Thunder'][0:(len(path) - 8)] = X['Seattle SuperSonics'][0:(len(path) - 8)]"
   ]
  },
  {
   "cell_type": "code",
   "execution_count": 38,
   "metadata": {
    "scrolled": true
   },
   "outputs": [
    {
     "data": {
      "text/html": [
       "<div>\n",
       "<style scoped>\n",
       "    .dataframe tbody tr th:only-of-type {\n",
       "        vertical-align: middle;\n",
       "    }\n",
       "\n",
       "    .dataframe tbody tr th {\n",
       "        vertical-align: top;\n",
       "    }\n",
       "\n",
       "    .dataframe thead th {\n",
       "        text-align: right;\n",
       "    }\n",
       "</style>\n",
       "<table border=\"1\" class=\"dataframe\">\n",
       "  <thead>\n",
       "    <tr style=\"text-align: right;\">\n",
       "      <th></th>\n",
       "      <th>+/-</th>\n",
       "      <th>2P</th>\n",
       "      <th>2P%</th>\n",
       "      <th>2PA</th>\n",
       "      <th>2PAr</th>\n",
       "      <th>3P</th>\n",
       "      <th>3P%</th>\n",
       "      <th>3PA</th>\n",
       "      <th>3PAr</th>\n",
       "      <th>AST</th>\n",
       "      <th>...</th>\n",
       "      <th>STL%</th>\n",
       "      <th>STL/TOV</th>\n",
       "      <th>TOV</th>\n",
       "      <th>TOV%</th>\n",
       "      <th>TRB</th>\n",
       "      <th>TRB%</th>\n",
       "      <th>TS%</th>\n",
       "      <th>TSA</th>\n",
       "      <th>USG%</th>\n",
       "      <th>eFG%</th>\n",
       "    </tr>\n",
       "  </thead>\n",
       "  <tbody>\n",
       "    <tr>\n",
       "      <th>2003-2004</th>\n",
       "      <td>-1.268293</td>\n",
       "      <td>-3.390244</td>\n",
       "      <td>-0.001535</td>\n",
       "      <td>-7.000000</td>\n",
       "      <td>-0.081923</td>\n",
       "      <td>2.890244</td>\n",
       "      <td>0.025147</td>\n",
       "      <td>6.609756</td>\n",
       "      <td>0.081923</td>\n",
       "      <td>0.658537</td>\n",
       "      <td>...</td>\n",
       "      <td>0.429268</td>\n",
       "      <td>0.032219</td>\n",
       "      <td>-0.365854</td>\n",
       "      <td>-0.095122</td>\n",
       "      <td>-3.329268</td>\n",
       "      <td>-4.100000</td>\n",
       "      <td>0.006176</td>\n",
       "      <td>-1.710244</td>\n",
       "      <td>0.0</td>\n",
       "      <td>0.013072</td>\n",
       "    </tr>\n",
       "    <tr>\n",
       "      <th>2004-2005</th>\n",
       "      <td>3.634409</td>\n",
       "      <td>-2.602151</td>\n",
       "      <td>-0.009855</td>\n",
       "      <td>-4.086022</td>\n",
       "      <td>-0.062777</td>\n",
       "      <td>2.000000</td>\n",
       "      <td>0.008637</td>\n",
       "      <td>5.172043</td>\n",
       "      <td>0.062777</td>\n",
       "      <td>-2.602151</td>\n",
       "      <td>...</td>\n",
       "      <td>0.701075</td>\n",
       "      <td>0.029820</td>\n",
       "      <td>-0.139785</td>\n",
       "      <td>-0.272043</td>\n",
       "      <td>2.989247</td>\n",
       "      <td>3.770968</td>\n",
       "      <td>0.003989</td>\n",
       "      <td>1.067097</td>\n",
       "      <td>0.0</td>\n",
       "      <td>-0.001061</td>\n",
       "    </tr>\n",
       "    <tr>\n",
       "      <th>2005-2006</th>\n",
       "      <td>-6.048780</td>\n",
       "      <td>-2.292683</td>\n",
       "      <td>-0.031924</td>\n",
       "      <td>-0.865854</td>\n",
       "      <td>-0.026360</td>\n",
       "      <td>0.768293</td>\n",
       "      <td>-0.011175</td>\n",
       "      <td>2.268293</td>\n",
       "      <td>0.026360</td>\n",
       "      <td>-3.378049</td>\n",
       "      <td>...</td>\n",
       "      <td>0.307317</td>\n",
       "      <td>0.025207</td>\n",
       "      <td>0.231707</td>\n",
       "      <td>0.110976</td>\n",
       "      <td>-0.890244</td>\n",
       "      <td>-0.978049</td>\n",
       "      <td>-0.019874</td>\n",
       "      <td>0.592195</td>\n",
       "      <td>0.0</td>\n",
       "      <td>-0.022660</td>\n",
       "    </tr>\n",
       "    <tr>\n",
       "      <th>2006-2007</th>\n",
       "      <td>-5.333333</td>\n",
       "      <td>-0.950617</td>\n",
       "      <td>-0.023289</td>\n",
       "      <td>0.703704</td>\n",
       "      <td>0.000242</td>\n",
       "      <td>0.111111</td>\n",
       "      <td>0.007493</td>\n",
       "      <td>0.111111</td>\n",
       "      <td>-0.000242</td>\n",
       "      <td>-2.111111</td>\n",
       "      <td>...</td>\n",
       "      <td>0.607407</td>\n",
       "      <td>0.032294</td>\n",
       "      <td>0.148148</td>\n",
       "      <td>0.192593</td>\n",
       "      <td>-1.333333</td>\n",
       "      <td>-1.801235</td>\n",
       "      <td>-0.012408</td>\n",
       "      <td>-0.363951</td>\n",
       "      <td>0.0</td>\n",
       "      <td>-0.015805</td>\n",
       "    </tr>\n",
       "    <tr>\n",
       "      <th>2007-2008</th>\n",
       "      <td>-17.512195</td>\n",
       "      <td>1.597561</td>\n",
       "      <td>-0.018845</td>\n",
       "      <td>6.500000</td>\n",
       "      <td>0.085912</td>\n",
       "      <td>-3.585366</td>\n",
       "      <td>-0.055416</td>\n",
       "      <td>-7.768293</td>\n",
       "      <td>-0.085912</td>\n",
       "      <td>-3.036585</td>\n",
       "      <td>...</td>\n",
       "      <td>-2.203659</td>\n",
       "      <td>-0.254663</td>\n",
       "      <td>2.646341</td>\n",
       "      <td>2.365854</td>\n",
       "      <td>0.524390</td>\n",
       "      <td>0.525610</td>\n",
       "      <td>-0.032072</td>\n",
       "      <td>-2.244878</td>\n",
       "      <td>0.0</td>\n",
       "      <td>-0.034689</td>\n",
       "    </tr>\n",
       "    <tr>\n",
       "      <th>2008-2009</th>\n",
       "      <td>NaN</td>\n",
       "      <td>NaN</td>\n",
       "      <td>NaN</td>\n",
       "      <td>NaN</td>\n",
       "      <td>NaN</td>\n",
       "      <td>NaN</td>\n",
       "      <td>NaN</td>\n",
       "      <td>NaN</td>\n",
       "      <td>NaN</td>\n",
       "      <td>NaN</td>\n",
       "      <td>...</td>\n",
       "      <td>NaN</td>\n",
       "      <td>NaN</td>\n",
       "      <td>NaN</td>\n",
       "      <td>NaN</td>\n",
       "      <td>NaN</td>\n",
       "      <td>NaN</td>\n",
       "      <td>NaN</td>\n",
       "      <td>NaN</td>\n",
       "      <td>NaN</td>\n",
       "      <td>NaN</td>\n",
       "    </tr>\n",
       "    <tr>\n",
       "      <th>2009-2010</th>\n",
       "      <td>NaN</td>\n",
       "      <td>NaN</td>\n",
       "      <td>NaN</td>\n",
       "      <td>NaN</td>\n",
       "      <td>NaN</td>\n",
       "      <td>NaN</td>\n",
       "      <td>NaN</td>\n",
       "      <td>NaN</td>\n",
       "      <td>NaN</td>\n",
       "      <td>NaN</td>\n",
       "      <td>...</td>\n",
       "      <td>NaN</td>\n",
       "      <td>NaN</td>\n",
       "      <td>NaN</td>\n",
       "      <td>NaN</td>\n",
       "      <td>NaN</td>\n",
       "      <td>NaN</td>\n",
       "      <td>NaN</td>\n",
       "      <td>NaN</td>\n",
       "      <td>NaN</td>\n",
       "      <td>NaN</td>\n",
       "    </tr>\n",
       "    <tr>\n",
       "      <th>2010-2011</th>\n",
       "      <td>NaN</td>\n",
       "      <td>NaN</td>\n",
       "      <td>NaN</td>\n",
       "      <td>NaN</td>\n",
       "      <td>NaN</td>\n",
       "      <td>NaN</td>\n",
       "      <td>NaN</td>\n",
       "      <td>NaN</td>\n",
       "      <td>NaN</td>\n",
       "      <td>NaN</td>\n",
       "      <td>...</td>\n",
       "      <td>NaN</td>\n",
       "      <td>NaN</td>\n",
       "      <td>NaN</td>\n",
       "      <td>NaN</td>\n",
       "      <td>NaN</td>\n",
       "      <td>NaN</td>\n",
       "      <td>NaN</td>\n",
       "      <td>NaN</td>\n",
       "      <td>NaN</td>\n",
       "      <td>NaN</td>\n",
       "    </tr>\n",
       "    <tr>\n",
       "      <th>2011-2012</th>\n",
       "      <td>NaN</td>\n",
       "      <td>NaN</td>\n",
       "      <td>NaN</td>\n",
       "      <td>NaN</td>\n",
       "      <td>NaN</td>\n",
       "      <td>NaN</td>\n",
       "      <td>NaN</td>\n",
       "      <td>NaN</td>\n",
       "      <td>NaN</td>\n",
       "      <td>NaN</td>\n",
       "      <td>...</td>\n",
       "      <td>NaN</td>\n",
       "      <td>NaN</td>\n",
       "      <td>NaN</td>\n",
       "      <td>NaN</td>\n",
       "      <td>NaN</td>\n",
       "      <td>NaN</td>\n",
       "      <td>NaN</td>\n",
       "      <td>NaN</td>\n",
       "      <td>NaN</td>\n",
       "      <td>NaN</td>\n",
       "    </tr>\n",
       "    <tr>\n",
       "      <th>2012-2013</th>\n",
       "      <td>NaN</td>\n",
       "      <td>NaN</td>\n",
       "      <td>NaN</td>\n",
       "      <td>NaN</td>\n",
       "      <td>NaN</td>\n",
       "      <td>NaN</td>\n",
       "      <td>NaN</td>\n",
       "      <td>NaN</td>\n",
       "      <td>NaN</td>\n",
       "      <td>NaN</td>\n",
       "      <td>...</td>\n",
       "      <td>NaN</td>\n",
       "      <td>NaN</td>\n",
       "      <td>NaN</td>\n",
       "      <td>NaN</td>\n",
       "      <td>NaN</td>\n",
       "      <td>NaN</td>\n",
       "      <td>NaN</td>\n",
       "      <td>NaN</td>\n",
       "      <td>NaN</td>\n",
       "      <td>NaN</td>\n",
       "    </tr>\n",
       "    <tr>\n",
       "      <th>2013-2014</th>\n",
       "      <td>NaN</td>\n",
       "      <td>NaN</td>\n",
       "      <td>NaN</td>\n",
       "      <td>NaN</td>\n",
       "      <td>NaN</td>\n",
       "      <td>NaN</td>\n",
       "      <td>NaN</td>\n",
       "      <td>NaN</td>\n",
       "      <td>NaN</td>\n",
       "      <td>NaN</td>\n",
       "      <td>...</td>\n",
       "      <td>NaN</td>\n",
       "      <td>NaN</td>\n",
       "      <td>NaN</td>\n",
       "      <td>NaN</td>\n",
       "      <td>NaN</td>\n",
       "      <td>NaN</td>\n",
       "      <td>NaN</td>\n",
       "      <td>NaN</td>\n",
       "      <td>NaN</td>\n",
       "      <td>NaN</td>\n",
       "    </tr>\n",
       "    <tr>\n",
       "      <th>2014-2015</th>\n",
       "      <td>NaN</td>\n",
       "      <td>NaN</td>\n",
       "      <td>NaN</td>\n",
       "      <td>NaN</td>\n",
       "      <td>NaN</td>\n",
       "      <td>NaN</td>\n",
       "      <td>NaN</td>\n",
       "      <td>NaN</td>\n",
       "      <td>NaN</td>\n",
       "      <td>NaN</td>\n",
       "      <td>...</td>\n",
       "      <td>NaN</td>\n",
       "      <td>NaN</td>\n",
       "      <td>NaN</td>\n",
       "      <td>NaN</td>\n",
       "      <td>NaN</td>\n",
       "      <td>NaN</td>\n",
       "      <td>NaN</td>\n",
       "      <td>NaN</td>\n",
       "      <td>NaN</td>\n",
       "      <td>NaN</td>\n",
       "    </tr>\n",
       "    <tr>\n",
       "      <th>2015-2016</th>\n",
       "      <td>NaN</td>\n",
       "      <td>NaN</td>\n",
       "      <td>NaN</td>\n",
       "      <td>NaN</td>\n",
       "      <td>NaN</td>\n",
       "      <td>NaN</td>\n",
       "      <td>NaN</td>\n",
       "      <td>NaN</td>\n",
       "      <td>NaN</td>\n",
       "      <td>NaN</td>\n",
       "      <td>...</td>\n",
       "      <td>NaN</td>\n",
       "      <td>NaN</td>\n",
       "      <td>NaN</td>\n",
       "      <td>NaN</td>\n",
       "      <td>NaN</td>\n",
       "      <td>NaN</td>\n",
       "      <td>NaN</td>\n",
       "      <td>NaN</td>\n",
       "      <td>NaN</td>\n",
       "      <td>NaN</td>\n",
       "    </tr>\n",
       "  </tbody>\n",
       "</table>\n",
       "<p>13 rows × 46 columns</p>\n",
       "</div>"
      ],
      "text/plain": [
       "                 +/-        2P       2P%       2PA      2PAr        3P  \\\n",
       "2003-2004  -1.268293 -3.390244 -0.001535 -7.000000 -0.081923  2.890244   \n",
       "2004-2005   3.634409 -2.602151 -0.009855 -4.086022 -0.062777  2.000000   \n",
       "2005-2006  -6.048780 -2.292683 -0.031924 -0.865854 -0.026360  0.768293   \n",
       "2006-2007  -5.333333 -0.950617 -0.023289  0.703704  0.000242  0.111111   \n",
       "2007-2008 -17.512195  1.597561 -0.018845  6.500000  0.085912 -3.585366   \n",
       "2008-2009        NaN       NaN       NaN       NaN       NaN       NaN   \n",
       "2009-2010        NaN       NaN       NaN       NaN       NaN       NaN   \n",
       "2010-2011        NaN       NaN       NaN       NaN       NaN       NaN   \n",
       "2011-2012        NaN       NaN       NaN       NaN       NaN       NaN   \n",
       "2012-2013        NaN       NaN       NaN       NaN       NaN       NaN   \n",
       "2013-2014        NaN       NaN       NaN       NaN       NaN       NaN   \n",
       "2014-2015        NaN       NaN       NaN       NaN       NaN       NaN   \n",
       "2015-2016        NaN       NaN       NaN       NaN       NaN       NaN   \n",
       "\n",
       "                3P%       3PA      3PAr       AST  ...      STL%   STL/TOV  \\\n",
       "2003-2004  0.025147  6.609756  0.081923  0.658537  ...  0.429268  0.032219   \n",
       "2004-2005  0.008637  5.172043  0.062777 -2.602151  ...  0.701075  0.029820   \n",
       "2005-2006 -0.011175  2.268293  0.026360 -3.378049  ...  0.307317  0.025207   \n",
       "2006-2007  0.007493  0.111111 -0.000242 -2.111111  ...  0.607407  0.032294   \n",
       "2007-2008 -0.055416 -7.768293 -0.085912 -3.036585  ... -2.203659 -0.254663   \n",
       "2008-2009       NaN       NaN       NaN       NaN  ...       NaN       NaN   \n",
       "2009-2010       NaN       NaN       NaN       NaN  ...       NaN       NaN   \n",
       "2010-2011       NaN       NaN       NaN       NaN  ...       NaN       NaN   \n",
       "2011-2012       NaN       NaN       NaN       NaN  ...       NaN       NaN   \n",
       "2012-2013       NaN       NaN       NaN       NaN  ...       NaN       NaN   \n",
       "2013-2014       NaN       NaN       NaN       NaN  ...       NaN       NaN   \n",
       "2014-2015       NaN       NaN       NaN       NaN  ...       NaN       NaN   \n",
       "2015-2016       NaN       NaN       NaN       NaN  ...       NaN       NaN   \n",
       "\n",
       "                TOV      TOV%       TRB      TRB%       TS%       TSA  USG%  \\\n",
       "2003-2004 -0.365854 -0.095122 -3.329268 -4.100000  0.006176 -1.710244   0.0   \n",
       "2004-2005 -0.139785 -0.272043  2.989247  3.770968  0.003989  1.067097   0.0   \n",
       "2005-2006  0.231707  0.110976 -0.890244 -0.978049 -0.019874  0.592195   0.0   \n",
       "2006-2007  0.148148  0.192593 -1.333333 -1.801235 -0.012408 -0.363951   0.0   \n",
       "2007-2008  2.646341  2.365854  0.524390  0.525610 -0.032072 -2.244878   0.0   \n",
       "2008-2009       NaN       NaN       NaN       NaN       NaN       NaN   NaN   \n",
       "2009-2010       NaN       NaN       NaN       NaN       NaN       NaN   NaN   \n",
       "2010-2011       NaN       NaN       NaN       NaN       NaN       NaN   NaN   \n",
       "2011-2012       NaN       NaN       NaN       NaN       NaN       NaN   NaN   \n",
       "2012-2013       NaN       NaN       NaN       NaN       NaN       NaN   NaN   \n",
       "2013-2014       NaN       NaN       NaN       NaN       NaN       NaN   NaN   \n",
       "2014-2015       NaN       NaN       NaN       NaN       NaN       NaN   NaN   \n",
       "2015-2016       NaN       NaN       NaN       NaN       NaN       NaN   NaN   \n",
       "\n",
       "               eFG%  \n",
       "2003-2004  0.013072  \n",
       "2004-2005 -0.001061  \n",
       "2005-2006 -0.022660  \n",
       "2006-2007 -0.015805  \n",
       "2007-2008 -0.034689  \n",
       "2008-2009       NaN  \n",
       "2009-2010       NaN  \n",
       "2010-2011       NaN  \n",
       "2011-2012       NaN  \n",
       "2012-2013       NaN  \n",
       "2013-2014       NaN  \n",
       "2014-2015       NaN  \n",
       "2015-2016       NaN  \n",
       "\n",
       "[13 rows x 46 columns]"
      ]
     },
     "execution_count": 38,
     "metadata": {},
     "output_type": "execute_result"
    }
   ],
   "source": [
    "# delete old teams\n",
    "X.pop('New Jersey Nets')\n",
    "X.pop('New Orleans/Oklahoma City Hornets')\n",
    "X.pop('New Orleans Hornets')\n",
    "X.pop('Charlotte Bobcats')\n",
    "X.pop('Seattle SuperSonics')\n"
   ]
  },
  {
   "cell_type": "code",
   "execution_count": 39,
   "metadata": {},
   "outputs": [],
   "source": [
    "# construct label(Y vector)\n",
    "\n",
    "win_rate = {} # key: team name, value: pandas data frame\n",
    "\n",
    "for name in (win_counts.keys()):\n",
    "    win_rate[name] = pd.DataFrame()\n",
    "    for season in sorted(win_counts[name].keys()):\n",
    "        if len(win_counts[name][season]) > 0:\n",
    "            temp = pd.DataFrame(\n",
    "                [((win_counts[name][season].count(True))/float(len(win_counts[name][season])))], index=[season]\n",
    "            )\n",
    "            win_rate[name] = win_rate[name].append(temp)\n"
   ]
  },
  {
   "cell_type": "code",
   "execution_count": 40,
   "metadata": {},
   "outputs": [],
   "source": [
    "# combine win rates of teams with different names\n",
    "\n",
    "win_rate['Brooklyn Nets'] = win_rate['New Jersey Nets'].append(win_rate['Brooklyn Nets'])\n",
    "\n",
    "temp = win_rate['New Orleans Hornets'][0:2].append(win_rate['New Orleans/Oklahoma City Hornets'])\n",
    "win_rate['New Orleans Hornets'] = temp.append(win_rate['New Orleans Hornets'][-6:])\n",
    "win_rate['New Orleans Pelicans'] = win_rate['New Orleans Hornets'].append(win_rate['New Orleans Pelicans'])\n",
    "\n",
    "win_rate['Charlotte Hornets'] = win_rate['Charlotte Bobcats'].append(win_rate['Charlotte Hornets'])\n",
    "win_rate['Oklahoma City Thunder'] = win_rate['Seattle SuperSonics'].append(win_rate['Oklahoma City Thunder'])"
   ]
  },
  {
   "cell_type": "code",
   "execution_count": 41,
   "metadata": {
    "scrolled": true
   },
   "outputs": [
    {
     "data": {
      "text/html": [
       "<div>\n",
       "<style scoped>\n",
       "    .dataframe tbody tr th:only-of-type {\n",
       "        vertical-align: middle;\n",
       "    }\n",
       "\n",
       "    .dataframe tbody tr th {\n",
       "        vertical-align: top;\n",
       "    }\n",
       "\n",
       "    .dataframe thead th {\n",
       "        text-align: right;\n",
       "    }\n",
       "</style>\n",
       "<table border=\"1\" class=\"dataframe\">\n",
       "  <thead>\n",
       "    <tr style=\"text-align: right;\">\n",
       "      <th></th>\n",
       "      <th>0</th>\n",
       "    </tr>\n",
       "  </thead>\n",
       "  <tbody>\n",
       "    <tr>\n",
       "      <th>2005-2006</th>\n",
       "      <td>0.463415</td>\n",
       "    </tr>\n",
       "    <tr>\n",
       "      <th>2006-2007</th>\n",
       "      <td>0.475000</td>\n",
       "    </tr>\n",
       "  </tbody>\n",
       "</table>\n",
       "</div>"
      ],
      "text/plain": [
       "                  0\n",
       "2005-2006  0.463415\n",
       "2006-2007  0.475000"
      ]
     },
     "execution_count": 41,
     "metadata": {},
     "output_type": "execute_result"
    }
   ],
   "source": [
    "# delete old teams\n",
    "\n",
    "win_rate.pop('New Jersey Nets')\n",
    "win_rate.pop('New Orleans Hornets')\n",
    "win_rate.pop('Charlotte Bobcats')\n",
    "win_rate.pop('Seattle SuperSonics')\n",
    "win_rate.pop('New Orleans/Oklahoma City Hornets')"
   ]
  },
  {
   "cell_type": "code",
   "execution_count": 42,
   "metadata": {
    "scrolled": true
   },
   "outputs": [
    {
     "name": "stderr",
     "output_type": "stream",
     "text": [
      "/Users/hty/anaconda3/lib/python3.7/site-packages/sklearn/model_selection/_split.py:2053: FutureWarning: You should specify a value for 'cv' instead of relying on the default value. The default value will change from 3 to 5 in version 0.22.\n",
      "  warnings.warn(CV_WARNING, FutureWarning)\n"
     ]
    },
    {
     "name": "stdout",
     "output_type": "stream",
     "text": [
      "Atlanta Hawks 1.0 0.023343294156901322\n"
     ]
    },
    {
     "name": "stderr",
     "output_type": "stream",
     "text": [
      "/Users/hty/anaconda3/lib/python3.7/site-packages/sklearn/model_selection/_split.py:2053: FutureWarning: You should specify a value for 'cv' instead of relying on the default value. The default value will change from 3 to 5 in version 0.22.\n",
      "  warnings.warn(CV_WARNING, FutureWarning)\n"
     ]
    },
    {
     "name": "stdout",
     "output_type": "stream",
     "text": [
      "Boston Celtics 0.1 0.21016362050491025\n"
     ]
    },
    {
     "name": "stderr",
     "output_type": "stream",
     "text": [
      "/Users/hty/anaconda3/lib/python3.7/site-packages/sklearn/model_selection/_split.py:2053: FutureWarning: You should specify a value for 'cv' instead of relying on the default value. The default value will change from 3 to 5 in version 0.22.\n",
      "  warnings.warn(CV_WARNING, FutureWarning)\n"
     ]
    },
    {
     "name": "stdout",
     "output_type": "stream",
     "text": [
      "Brooklyn Nets 0.7 0.056820437518547186\n"
     ]
    },
    {
     "name": "stderr",
     "output_type": "stream",
     "text": [
      "/Users/hty/anaconda3/lib/python3.7/site-packages/sklearn/model_selection/_split.py:2053: FutureWarning: You should specify a value for 'cv' instead of relying on the default value. The default value will change from 3 to 5 in version 0.22.\n",
      "  warnings.warn(CV_WARNING, FutureWarning)\n",
      "/Users/hty/anaconda3/lib/python3.7/site-packages/sklearn/linear_model/coordinate_descent.py:492: ConvergenceWarning: Objective did not converge. You might want to increase the number of iterations. Fitting data with very small alpha may cause precision problems.\n",
      "  ConvergenceWarning)\n",
      "/Users/hty/anaconda3/lib/python3.7/site-packages/sklearn/linear_model/coordinate_descent.py:492: ConvergenceWarning: Objective did not converge. You might want to increase the number of iterations. Fitting data with very small alpha may cause precision problems.\n",
      "  ConvergenceWarning)\n",
      "/Users/hty/anaconda3/lib/python3.7/site-packages/sklearn/linear_model/coordinate_descent.py:492: ConvergenceWarning: Objective did not converge. You might want to increase the number of iterations. Fitting data with very small alpha may cause precision problems.\n",
      "  ConvergenceWarning)\n",
      "/Users/hty/anaconda3/lib/python3.7/site-packages/sklearn/linear_model/coordinate_descent.py:492: ConvergenceWarning: Objective did not converge. You might want to increase the number of iterations. Fitting data with very small alpha may cause precision problems.\n",
      "  ConvergenceWarning)\n"
     ]
    },
    {
     "name": "stdout",
     "output_type": "stream",
     "text": [
      "Charlotte Hornets 0.1 2.8033537349440376\n"
     ]
    },
    {
     "name": "stderr",
     "output_type": "stream",
     "text": [
      "/Users/hty/anaconda3/lib/python3.7/site-packages/sklearn/model_selection/_split.py:2053: FutureWarning: You should specify a value for 'cv' instead of relying on the default value. The default value will change from 3 to 5 in version 0.22.\n",
      "  warnings.warn(CV_WARNING, FutureWarning)\n",
      "/Users/hty/anaconda3/lib/python3.7/site-packages/sklearn/linear_model/coordinate_descent.py:492: ConvergenceWarning: Objective did not converge. You might want to increase the number of iterations. Fitting data with very small alpha may cause precision problems.\n",
      "  ConvergenceWarning)\n",
      "/Users/hty/anaconda3/lib/python3.7/site-packages/sklearn/linear_model/coordinate_descent.py:492: ConvergenceWarning: Objective did not converge. You might want to increase the number of iterations. Fitting data with very small alpha may cause precision problems.\n",
      "  ConvergenceWarning)\n",
      "/Users/hty/anaconda3/lib/python3.7/site-packages/sklearn/linear_model/coordinate_descent.py:492: ConvergenceWarning: Objective did not converge. You might want to increase the number of iterations. Fitting data with very small alpha may cause precision problems.\n",
      "  ConvergenceWarning)\n",
      "/Users/hty/anaconda3/lib/python3.7/site-packages/sklearn/linear_model/coordinate_descent.py:492: ConvergenceWarning: Objective did not converge. You might want to increase the number of iterations. Fitting data with very small alpha may cause precision problems.\n",
      "  ConvergenceWarning)\n",
      "/Users/hty/anaconda3/lib/python3.7/site-packages/sklearn/linear_model/coordinate_descent.py:492: ConvergenceWarning: Objective did not converge. You might want to increase the number of iterations. Fitting data with very small alpha may cause precision problems.\n",
      "  ConvergenceWarning)\n",
      "/Users/hty/anaconda3/lib/python3.7/site-packages/sklearn/model_selection/_split.py:2053: FutureWarning: You should specify a value for 'cv' instead of relying on the default value. The default value will change from 3 to 5 in version 0.22.\n",
      "  warnings.warn(CV_WARNING, FutureWarning)\n"
     ]
    },
    {
     "name": "stdout",
     "output_type": "stream",
     "text": [
      "Chicago Bulls 0.1 0.5449872088239386\n",
      "Cleveland Cavaliers 0.1 0.021134557806466697\n"
     ]
    },
    {
     "name": "stderr",
     "output_type": "stream",
     "text": [
      "/Users/hty/anaconda3/lib/python3.7/site-packages/sklearn/model_selection/_split.py:2053: FutureWarning: You should specify a value for 'cv' instead of relying on the default value. The default value will change from 3 to 5 in version 0.22.\n",
      "  warnings.warn(CV_WARNING, FutureWarning)\n",
      "/Users/hty/anaconda3/lib/python3.7/site-packages/sklearn/linear_model/coordinate_descent.py:492: ConvergenceWarning: Objective did not converge. You might want to increase the number of iterations. Fitting data with very small alpha may cause precision problems.\n",
      "  ConvergenceWarning)\n"
     ]
    },
    {
     "name": "stdout",
     "output_type": "stream",
     "text": [
      "Dallas Mavericks 1.0 0.024679346016331174\n"
     ]
    },
    {
     "name": "stderr",
     "output_type": "stream",
     "text": [
      "/Users/hty/anaconda3/lib/python3.7/site-packages/sklearn/model_selection/_split.py:2053: FutureWarning: You should specify a value for 'cv' instead of relying on the default value. The default value will change from 3 to 5 in version 0.22.\n",
      "  warnings.warn(CV_WARNING, FutureWarning)\n"
     ]
    },
    {
     "name": "stdout",
     "output_type": "stream",
     "text": [
      "Denver Nuggets 1.0 0.011623260088912624\n"
     ]
    },
    {
     "name": "stderr",
     "output_type": "stream",
     "text": [
      "/Users/hty/anaconda3/lib/python3.7/site-packages/sklearn/model_selection/_split.py:2053: FutureWarning: You should specify a value for 'cv' instead of relying on the default value. The default value will change from 3 to 5 in version 0.22.\n",
      "  warnings.warn(CV_WARNING, FutureWarning)\n"
     ]
    },
    {
     "name": "stdout",
     "output_type": "stream",
     "text": [
      "Detroit Pistons 0.1 0.2832535496127874\n"
     ]
    },
    {
     "name": "stderr",
     "output_type": "stream",
     "text": [
      "/Users/hty/anaconda3/lib/python3.7/site-packages/sklearn/model_selection/_split.py:2053: FutureWarning: You should specify a value for 'cv' instead of relying on the default value. The default value will change from 3 to 5 in version 0.22.\n",
      "  warnings.warn(CV_WARNING, FutureWarning)\n"
     ]
    },
    {
     "name": "stdout",
     "output_type": "stream",
     "text": [
      "Golden State Warriors 1.0 0.0577361379744123\n"
     ]
    },
    {
     "name": "stderr",
     "output_type": "stream",
     "text": [
      "/Users/hty/anaconda3/lib/python3.7/site-packages/sklearn/model_selection/_split.py:2053: FutureWarning: You should specify a value for 'cv' instead of relying on the default value. The default value will change from 3 to 5 in version 0.22.\n",
      "  warnings.warn(CV_WARNING, FutureWarning)\n"
     ]
    },
    {
     "name": "stdout",
     "output_type": "stream",
     "text": [
      "Houston Rockets 1.0 0.0568569739527746\n"
     ]
    },
    {
     "name": "stderr",
     "output_type": "stream",
     "text": [
      "/Users/hty/anaconda3/lib/python3.7/site-packages/sklearn/model_selection/_split.py:2053: FutureWarning: You should specify a value for 'cv' instead of relying on the default value. The default value will change from 3 to 5 in version 0.22.\n",
      "  warnings.warn(CV_WARNING, FutureWarning)\n",
      "/Users/hty/anaconda3/lib/python3.7/site-packages/sklearn/linear_model/coordinate_descent.py:492: ConvergenceWarning: Objective did not converge. You might want to increase the number of iterations. Fitting data with very small alpha may cause precision problems.\n",
      "  ConvergenceWarning)\n",
      "/Users/hty/anaconda3/lib/python3.7/site-packages/sklearn/linear_model/coordinate_descent.py:492: ConvergenceWarning: Objective did not converge. You might want to increase the number of iterations. Fitting data with very small alpha may cause precision problems.\n",
      "  ConvergenceWarning)\n",
      "/Users/hty/anaconda3/lib/python3.7/site-packages/sklearn/linear_model/coordinate_descent.py:492: ConvergenceWarning: Objective did not converge. You might want to increase the number of iterations. Fitting data with very small alpha may cause precision problems.\n",
      "  ConvergenceWarning)\n",
      "/Users/hty/anaconda3/lib/python3.7/site-packages/sklearn/model_selection/_split.py:2053: FutureWarning: You should specify a value for 'cv' instead of relying on the default value. The default value will change from 3 to 5 in version 0.22.\n",
      "  warnings.warn(CV_WARNING, FutureWarning)\n"
     ]
    },
    {
     "name": "stdout",
     "output_type": "stream",
     "text": [
      "Indiana Pacers 1.0 0.030749198857055893\n",
      "Los Angeles Clippers 0.1 0.23714341620432253\n"
     ]
    },
    {
     "name": "stderr",
     "output_type": "stream",
     "text": [
      "/Users/hty/anaconda3/lib/python3.7/site-packages/sklearn/model_selection/_split.py:2053: FutureWarning: You should specify a value for 'cv' instead of relying on the default value. The default value will change from 3 to 5 in version 0.22.\n",
      "  warnings.warn(CV_WARNING, FutureWarning)\n"
     ]
    },
    {
     "name": "stdout",
     "output_type": "stream",
     "text": [
      "Los Angeles Lakers 1.0 0.049789637473442776\n"
     ]
    },
    {
     "name": "stderr",
     "output_type": "stream",
     "text": [
      "/Users/hty/anaconda3/lib/python3.7/site-packages/sklearn/model_selection/_split.py:2053: FutureWarning: You should specify a value for 'cv' instead of relying on the default value. The default value will change from 3 to 5 in version 0.22.\n",
      "  warnings.warn(CV_WARNING, FutureWarning)\n",
      "/Users/hty/anaconda3/lib/python3.7/site-packages/sklearn/linear_model/coordinate_descent.py:492: ConvergenceWarning: Objective did not converge. You might want to increase the number of iterations. Fitting data with very small alpha may cause precision problems.\n",
      "  ConvergenceWarning)\n",
      "/Users/hty/anaconda3/lib/python3.7/site-packages/sklearn/linear_model/coordinate_descent.py:492: ConvergenceWarning: Objective did not converge. You might want to increase the number of iterations. Fitting data with very small alpha may cause precision problems.\n",
      "  ConvergenceWarning)\n",
      "/Users/hty/anaconda3/lib/python3.7/site-packages/sklearn/linear_model/coordinate_descent.py:492: ConvergenceWarning: Objective did not converge. You might want to increase the number of iterations. Fitting data with very small alpha may cause precision problems.\n",
      "  ConvergenceWarning)\n",
      "/Users/hty/anaconda3/lib/python3.7/site-packages/sklearn/linear_model/coordinate_descent.py:492: ConvergenceWarning: Objective did not converge. You might want to increase the number of iterations. Fitting data with very small alpha may cause precision problems.\n",
      "  ConvergenceWarning)\n",
      "/Users/hty/anaconda3/lib/python3.7/site-packages/sklearn/model_selection/_split.py:2053: FutureWarning: You should specify a value for 'cv' instead of relying on the default value. The default value will change from 3 to 5 in version 0.22.\n",
      "  warnings.warn(CV_WARNING, FutureWarning)\n"
     ]
    },
    {
     "name": "stdout",
     "output_type": "stream",
     "text": [
      "Memphis Grizzlies 0.3 0.029667829102127462\n",
      "Miami Heat 1.0 0.0014016608911051611\n"
     ]
    },
    {
     "name": "stderr",
     "output_type": "stream",
     "text": [
      "/Users/hty/anaconda3/lib/python3.7/site-packages/sklearn/model_selection/_split.py:2053: FutureWarning: You should specify a value for 'cv' instead of relying on the default value. The default value will change from 3 to 5 in version 0.22.\n",
      "  warnings.warn(CV_WARNING, FutureWarning)\n"
     ]
    },
    {
     "name": "stdout",
     "output_type": "stream",
     "text": [
      "Milwaukee Bucks 1.0 0.053756064471262896\n"
     ]
    },
    {
     "name": "stderr",
     "output_type": "stream",
     "text": [
      "/Users/hty/anaconda3/lib/python3.7/site-packages/sklearn/model_selection/_split.py:2053: FutureWarning: You should specify a value for 'cv' instead of relying on the default value. The default value will change from 3 to 5 in version 0.22.\n",
      "  warnings.warn(CV_WARNING, FutureWarning)\n"
     ]
    },
    {
     "name": "stdout",
     "output_type": "stream",
     "text": [
      "Minnesota Timberwolves 0.1 0.7742450440911268\n"
     ]
    },
    {
     "name": "stderr",
     "output_type": "stream",
     "text": [
      "/Users/hty/anaconda3/lib/python3.7/site-packages/sklearn/model_selection/_split.py:2053: FutureWarning: You should specify a value for 'cv' instead of relying on the default value. The default value will change from 3 to 5 in version 0.22.\n",
      "  warnings.warn(CV_WARNING, FutureWarning)\n"
     ]
    },
    {
     "name": "stdout",
     "output_type": "stream",
     "text": [
      "New Orleans Pelicans 0.1 0.5646866510453613\n",
      "New York Knicks 1.0 0.00796596718876456\n"
     ]
    },
    {
     "name": "stderr",
     "output_type": "stream",
     "text": [
      "/Users/hty/anaconda3/lib/python3.7/site-packages/sklearn/model_selection/_split.py:2053: FutureWarning: You should specify a value for 'cv' instead of relying on the default value. The default value will change from 3 to 5 in version 0.22.\n",
      "  warnings.warn(CV_WARNING, FutureWarning)\n",
      "/Users/hty/anaconda3/lib/python3.7/site-packages/sklearn/model_selection/_split.py:2053: FutureWarning: You should specify a value for 'cv' instead of relying on the default value. The default value will change from 3 to 5 in version 0.22.\n",
      "  warnings.warn(CV_WARNING, FutureWarning)\n"
     ]
    },
    {
     "name": "stdout",
     "output_type": "stream",
     "text": [
      "Oklahoma City Thunder 1.0 0.04764954919380569\n"
     ]
    },
    {
     "name": "stderr",
     "output_type": "stream",
     "text": [
      "/Users/hty/anaconda3/lib/python3.7/site-packages/sklearn/model_selection/_split.py:2053: FutureWarning: You should specify a value for 'cv' instead of relying on the default value. The default value will change from 3 to 5 in version 0.22.\n",
      "  warnings.warn(CV_WARNING, FutureWarning)\n"
     ]
    },
    {
     "name": "stdout",
     "output_type": "stream",
     "text": [
      "Orlando Magic 0.3 0.2900962357384923\n"
     ]
    },
    {
     "name": "stderr",
     "output_type": "stream",
     "text": [
      "/Users/hty/anaconda3/lib/python3.7/site-packages/sklearn/model_selection/_split.py:2053: FutureWarning: You should specify a value for 'cv' instead of relying on the default value. The default value will change from 3 to 5 in version 0.22.\n",
      "  warnings.warn(CV_WARNING, FutureWarning)\n"
     ]
    },
    {
     "name": "stdout",
     "output_type": "stream",
     "text": [
      "Philadelphia 76ers 1.0 0.024633357722342156\n"
     ]
    },
    {
     "name": "stderr",
     "output_type": "stream",
     "text": [
      "/Users/hty/anaconda3/lib/python3.7/site-packages/sklearn/model_selection/_split.py:2053: FutureWarning: You should specify a value for 'cv' instead of relying on the default value. The default value will change from 3 to 5 in version 0.22.\n",
      "  warnings.warn(CV_WARNING, FutureWarning)\n",
      "/Users/hty/anaconda3/lib/python3.7/site-packages/sklearn/linear_model/coordinate_descent.py:492: ConvergenceWarning: Objective did not converge. You might want to increase the number of iterations. Fitting data with very small alpha may cause precision problems.\n",
      "  ConvergenceWarning)\n",
      "/Users/hty/anaconda3/lib/python3.7/site-packages/sklearn/linear_model/coordinate_descent.py:492: ConvergenceWarning: Objective did not converge. You might want to increase the number of iterations. Fitting data with very small alpha may cause precision problems.\n",
      "  ConvergenceWarning)\n",
      "/Users/hty/anaconda3/lib/python3.7/site-packages/sklearn/linear_model/coordinate_descent.py:492: ConvergenceWarning: Objective did not converge. You might want to increase the number of iterations. Fitting data with very small alpha may cause precision problems.\n",
      "  ConvergenceWarning)\n",
      "/Users/hty/anaconda3/lib/python3.7/site-packages/sklearn/linear_model/coordinate_descent.py:492: ConvergenceWarning: Objective did not converge. You might want to increase the number of iterations. Fitting data with very small alpha may cause precision problems.\n",
      "  ConvergenceWarning)\n",
      "/Users/hty/anaconda3/lib/python3.7/site-packages/sklearn/model_selection/_split.py:2053: FutureWarning: You should specify a value for 'cv' instead of relying on the default value. The default value will change from 3 to 5 in version 0.22.\n",
      "  warnings.warn(CV_WARNING, FutureWarning)\n"
     ]
    },
    {
     "name": "stdout",
     "output_type": "stream",
     "text": [
      "Phoenix Suns 1.0 0.029588381996872345\n"
     ]
    },
    {
     "name": "stderr",
     "output_type": "stream",
     "text": [
      "/Users/hty/anaconda3/lib/python3.7/site-packages/sklearn/linear_model/coordinate_descent.py:492: ConvergenceWarning: Objective did not converge. You might want to increase the number of iterations. Fitting data with very small alpha may cause precision problems.\n",
      "  ConvergenceWarning)\n",
      "/Users/hty/anaconda3/lib/python3.7/site-packages/sklearn/linear_model/coordinate_descent.py:492: ConvergenceWarning: Objective did not converge. You might want to increase the number of iterations. Fitting data with very small alpha may cause precision problems.\n",
      "  ConvergenceWarning)\n",
      "/Users/hty/anaconda3/lib/python3.7/site-packages/sklearn/linear_model/coordinate_descent.py:492: ConvergenceWarning: Objective did not converge. You might want to increase the number of iterations. Fitting data with very small alpha may cause precision problems.\n",
      "  ConvergenceWarning)\n",
      "/Users/hty/anaconda3/lib/python3.7/site-packages/sklearn/linear_model/coordinate_descent.py:492: ConvergenceWarning: Objective did not converge. You might want to increase the number of iterations. Fitting data with very small alpha may cause precision problems.\n",
      "  ConvergenceWarning)\n",
      "/Users/hty/anaconda3/lib/python3.7/site-packages/sklearn/model_selection/_split.py:2053: FutureWarning: You should specify a value for 'cv' instead of relying on the default value. The default value will change from 3 to 5 in version 0.22.\n",
      "  warnings.warn(CV_WARNING, FutureWarning)\n"
     ]
    },
    {
     "name": "stdout",
     "output_type": "stream",
     "text": [
      "Portland Trail Blazers 0.1 0.32334348011399716\n",
      "Sacramento Kings 0.1 0.0974419285709916\n",
      "San Antonio Spurs 1.0 0.008969600487040708\n"
     ]
    },
    {
     "name": "stderr",
     "output_type": "stream",
     "text": [
      "/Users/hty/anaconda3/lib/python3.7/site-packages/sklearn/model_selection/_split.py:2053: FutureWarning: You should specify a value for 'cv' instead of relying on the default value. The default value will change from 3 to 5 in version 0.22.\n",
      "  warnings.warn(CV_WARNING, FutureWarning)\n",
      "/Users/hty/anaconda3/lib/python3.7/site-packages/sklearn/model_selection/_split.py:2053: FutureWarning: You should specify a value for 'cv' instead of relying on the default value. The default value will change from 3 to 5 in version 0.22.\n",
      "  warnings.warn(CV_WARNING, FutureWarning)\n",
      "/Users/hty/anaconda3/lib/python3.7/site-packages/sklearn/linear_model/coordinate_descent.py:492: ConvergenceWarning: Objective did not converge. You might want to increase the number of iterations. Fitting data with very small alpha may cause precision problems.\n",
      "  ConvergenceWarning)\n",
      "/Users/hty/anaconda3/lib/python3.7/site-packages/sklearn/model_selection/_split.py:2053: FutureWarning: You should specify a value for 'cv' instead of relying on the default value. The default value will change from 3 to 5 in version 0.22.\n",
      "  warnings.warn(CV_WARNING, FutureWarning)\n"
     ]
    },
    {
     "name": "stdout",
     "output_type": "stream",
     "text": [
      "Toronto Raptors 1.0 0.00044220550241345414\n"
     ]
    },
    {
     "name": "stderr",
     "output_type": "stream",
     "text": [
      "/Users/hty/anaconda3/lib/python3.7/site-packages/sklearn/linear_model/coordinate_descent.py:492: ConvergenceWarning: Objective did not converge. You might want to increase the number of iterations. Fitting data with very small alpha may cause precision problems.\n",
      "  ConvergenceWarning)\n",
      "/Users/hty/anaconda3/lib/python3.7/site-packages/sklearn/linear_model/coordinate_descent.py:492: ConvergenceWarning: Objective did not converge. You might want to increase the number of iterations. Fitting data with very small alpha may cause precision problems.\n",
      "  ConvergenceWarning)\n",
      "/Users/hty/anaconda3/lib/python3.7/site-packages/sklearn/linear_model/coordinate_descent.py:492: ConvergenceWarning: Objective did not converge. You might want to increase the number of iterations. Fitting data with very small alpha may cause precision problems.\n",
      "  ConvergenceWarning)\n",
      "/Users/hty/anaconda3/lib/python3.7/site-packages/sklearn/linear_model/coordinate_descent.py:492: ConvergenceWarning: Objective did not converge. You might want to increase the number of iterations. Fitting data with very small alpha may cause precision problems.\n",
      "  ConvergenceWarning)\n",
      "/Users/hty/anaconda3/lib/python3.7/site-packages/sklearn/model_selection/_split.py:2053: FutureWarning: You should specify a value for 'cv' instead of relying on the default value. The default value will change from 3 to 5 in version 0.22.\n",
      "  warnings.warn(CV_WARNING, FutureWarning)\n"
     ]
    },
    {
     "name": "stdout",
     "output_type": "stream",
     "text": [
      "Utah Jazz 0.3 0.25554496791173603\n"
     ]
    },
    {
     "name": "stderr",
     "output_type": "stream",
     "text": [
      "/Users/hty/anaconda3/lib/python3.7/site-packages/sklearn/linear_model/coordinate_descent.py:492: ConvergenceWarning: Objective did not converge. You might want to increase the number of iterations. Fitting data with very small alpha may cause precision problems.\n",
      "  ConvergenceWarning)\n",
      "/Users/hty/anaconda3/lib/python3.7/site-packages/sklearn/linear_model/coordinate_descent.py:492: ConvergenceWarning: Objective did not converge. You might want to increase the number of iterations. Fitting data with very small alpha may cause precision problems.\n",
      "  ConvergenceWarning)\n",
      "/Users/hty/anaconda3/lib/python3.7/site-packages/sklearn/linear_model/coordinate_descent.py:492: ConvergenceWarning: Objective did not converge. You might want to increase the number of iterations. Fitting data with very small alpha may cause precision problems.\n",
      "  ConvergenceWarning)\n"
     ]
    },
    {
     "name": "stdout",
     "output_type": "stream",
     "text": [
      "Washington Wizards 1.0 0.04349514407858319\n"
     ]
    },
    {
     "name": "stderr",
     "output_type": "stream",
     "text": [
      "/Users/hty/anaconda3/lib/python3.7/site-packages/sklearn/linear_model/coordinate_descent.py:492: ConvergenceWarning: Objective did not converge. You might want to increase the number of iterations. Fitting data with very small alpha may cause precision problems.\n",
      "  ConvergenceWarning)\n",
      "/Users/hty/anaconda3/lib/python3.7/site-packages/sklearn/linear_model/coordinate_descent.py:492: ConvergenceWarning: Objective did not converge. You might want to increase the number of iterations. Fitting data with very small alpha may cause precision problems.\n",
      "  ConvergenceWarning)\n",
      "/Users/hty/anaconda3/lib/python3.7/site-packages/sklearn/linear_model/coordinate_descent.py:492: ConvergenceWarning: Objective did not converge. You might want to increase the number of iterations. Fitting data with very small alpha may cause precision problems.\n",
      "  ConvergenceWarning)\n"
     ]
    }
   ],
   "source": [
    "# prediction\n",
    "# from sklearn.ensemble import RandomForestRegressor\n",
    "from sklearn.linear_model import ElasticNetCV\n",
    "\n",
    "estimator = {}\n",
    "\n",
    "num_of_train_data = len(X['San Antonio Spurs']) - 1\n",
    "\n",
    "# find out the best l1 ratio\n",
    "l1r=[]\n",
    "l1RatiosToBeTested = [.1, .3, .5, .7, .9, .95, 1] # 0: ridge, 1: lasso\n",
    "\n",
    "for team in sorted(win_rate.keys()):\n",
    "    regressor = ElasticNetCV(l1RatiosToBeTested)\n",
    "    #     handle missing value in Charlotte Hornets\n",
    "    if not team == 'Charlotte Hornets':\n",
    "        regressor.fit(\n",
    "            X[team][0:num_of_train_data], \n",
    "            win_rate[team][0][0:num_of_train_data])\n",
    "        l1r.append(regressor.l1_ratio_)\n",
    "        print (team, regressor.l1_ratio_, regressor.alpha_)\n",
    "    else:\n",
    "        regressor.fit(\n",
    "            X[team][1:num_of_train_data], \n",
    "            win_rate[team][0][1:num_of_train_data]) \n",
    "        l1r.append(regressor.l1_ratio_)\n",
    "        print (team, regressor.l1_ratio_, regressor.alpha_)\n"
   ]
  },
  {
   "cell_type": "code",
   "execution_count": 43,
   "metadata": {},
   "outputs": [
    {
     "name": "stdout",
     "output_type": "stream",
     "text": [
      "0.1 10\n",
      "0.3 3\n",
      "0.5 0\n",
      "0.7 1\n",
      "0.9 0\n",
      "0.95 0\n",
      "1 16\n"
     ]
    }
   ],
   "source": [
    "# check which l1 ratio is used the most\n",
    "for n in l1RatiosToBeTested:\n",
    "    print (n, l1r.count(n))    "
   ]
  },
  {
   "cell_type": "code",
   "execution_count": 44,
   "metadata": {
    "scrolled": false
   },
   "outputs": [
    {
     "name": "stdout",
     "output_type": "stream",
     "text": [
      "Processing:  Atlanta Hawks\n",
      "Processing:  Boston Celtics\n",
      "Processing:  Brooklyn Nets\n",
      "Processing:  Charlotte Hornets\n",
      "Processing:  Chicago Bulls\n",
      "Processing:  Cleveland Cavaliers\n",
      "Processing:  Dallas Mavericks\n",
      "Processing:  Denver Nuggets\n",
      "Processing:  Detroit Pistons\n",
      "Processing:  Golden State Warriors\n",
      "Processing:  Houston Rockets\n",
      "Processing:  Indiana Pacers\n",
      "Processing:  Los Angeles Clippers\n",
      "Processing:  Los Angeles Lakers\n",
      "Processing:  Memphis Grizzlies\n",
      "Processing:  Miami Heat\n",
      "Processing:  Milwaukee Bucks\n",
      "Processing:  Minnesota Timberwolves\n",
      "Processing:  New Orleans Pelicans\n",
      "Processing:  New York Knicks\n",
      "Processing:  Oklahoma City Thunder\n",
      "Processing:  Orlando Magic\n",
      "Processing:  Philadelphia 76ers\n",
      "Processing:  Phoenix Suns\n",
      "Processing:  Portland Trail Blazers\n",
      "Processing:  Sacramento Kings\n",
      "Processing:  San Antonio Spurs\n",
      "Processing:  Toronto Raptors\n",
      "Processing:  Utah Jazz\n",
      "Processing:  Washington Wizards\n"
     ]
    }
   ],
   "source": [
    "\n",
    "for team in sorted(win_rate.keys()):\n",
    "    print (\"Processing: \", team)\n",
    "\n",
    "    estimator[team] = ElasticNetCV(l1_ratio = 1, max_iter=5000, cv = 3) # l1_ratio from prev check\n",
    "#     estimator[team] = RandomForestRegressor()\n",
    "    \n",
    "    if team != 'Charlotte Hornets':\n",
    "#         estimator[team] = grid_clf. best_estimator_\n",
    "        estimator[team].fit(X[team][0:num_of_train_data], win_rate[team][0][0:num_of_train_data])\n",
    "    else:\n",
    "#         estimator[team] = ElasticNetCV(l1_ratio = 1)\n",
    "#         estimator[team] = grid_clf. best_estimator_\n",
    "        estimator[team].fit(X[team][1:num_of_train_data], win_rate[team][0][1:num_of_train_data])\n",
    "    \n",
    "#     estimator[team] = RandomForestRegressor()\n",
    "#     estimator[team].fit(\n",
    "#         X[team][0:num_of_train_data], \n",
    "#         win_rate[team][0][0:num_of_train_data])"
   ]
  },
  {
   "cell_type": "code",
   "execution_count": 45,
   "metadata": {
    "scrolled": true
   },
   "outputs": [],
   "source": [
    "#  win rate in 15-16\n",
    "actual_win_rate = {}\n",
    "predicted_win_rate = {}\n",
    "for team in sorted(win_rate.keys()):\n",
    "#     print team\n",
    "#     print (win_rate[team][0][-1])\n",
    "    actual_win_rate[team] = (win_rate[team][0][-1])\n",
    "    predicted_win_rate[team] = estimator[team].predict(X[team].iloc[-1].values.reshape(1,-1))[0]\n",
    "    \n",
    "    \n"
   ]
  },
  {
   "cell_type": "code",
   "execution_count": 46,
   "metadata": {
    "scrolled": true
   },
   "outputs": [],
   "source": [
    "# preditcted standing\n",
    "from operator import itemgetter\n",
    "\n",
    "pred_ranking = pd.DataFrame(sorted(predicted_win_rate.items(), key=itemgetter(1), reverse=True))\n",
    "\n",
    "west_standing_pred = pd.DataFrame()\n",
    "east_standing_pred = pd.DataFrame()\n",
    "\n",
    "west_teams = {\n",
    "    'Golden State Warriors', 'New Orleans Pelicans', 'San Antonio Spurs',\n",
    "    'Oklahoma City Thunder', 'Los Angeles Clippers', 'Portland Trail Blazers',\n",
    "    'Dallas Mavericks', 'Memphis Grizzlies', 'Houston Rockets',\n",
    "    'Utah Jazz', 'Sacramento Kings', 'Denver Nuggets',\n",
    "    'Phoenix Suns', 'Los Angeles Lakers', 'Minnesota Timberwolves'    \n",
    "}\n",
    "\n",
    "for i in range(len(pred_ranking[0])):    \n",
    "    if pred_ranking[0][i] in west_teams:\n",
    "        west_standing_pred = west_standing_pred.append(pred_ranking.iloc[i])\n",
    "    else:\n",
    "        east_standing_pred = east_standing_pred.append(pred_ranking.iloc[i])"
   ]
  },
  {
   "cell_type": "code",
   "execution_count": 47,
   "metadata": {},
   "outputs": [],
   "source": [
    "# actual standing\n",
    "actual_ranking = pd.DataFrame(sorted(actual_win_rate.items(), key=itemgetter(1), reverse=True))\n",
    "\n",
    "west_standing_actual = pd.DataFrame()\n",
    "east_standing_actual = pd.DataFrame()\n",
    "\n",
    "for i in range(len(actual_ranking[0])):\n",
    "    if actual_ranking[0][i] in west_teams:\n",
    "        west_standing_actual = west_standing_actual.append(actual_ranking.iloc[i])\n",
    "    else:\n",
    "        east_standing_actual = east_standing_actual.append(actual_ranking.iloc[i])"
   ]
  },
  {
   "cell_type": "code",
   "execution_count": 48,
   "metadata": {},
   "outputs": [
    {
     "data": {
      "text/plain": [
       "SpearmanrResult(correlation=0.8785714285714284, pvalue=1.6315280286544268e-05)"
      ]
     },
     "execution_count": 48,
     "metadata": {},
     "output_type": "execute_result"
    }
   ],
   "source": [
    "# calculate Spwerman's Rank-Order Correlation coefficient\n",
    "east_standing_pred[2] = pd.Series(range(1,16), index = east_standing_pred.index)\n",
    "east_standing_actual[2] = pd.Series(range(1,16), index = east_standing_actual.index)\n",
    "\n",
    "arr_pred = east_standing_pred.sort_values(by=0)[2]\n",
    "arr_actual = east_standing_actual.sort_values(by=0)[2]\n",
    "\n",
    "from scipy.stats import spearmanr\n",
    "spearmanr(arr_actual, arr_pred)"
   ]
  },
  {
   "cell_type": "code",
   "execution_count": 49,
   "metadata": {},
   "outputs": [
    {
     "name": "stdout",
     "output_type": "stream",
     "text": [
      "out of sample (MSE):  0.0027850311380836395\n"
     ]
    }
   ],
   "source": [
    "from sklearn.metrics import mean_squared_error\n",
    "import math\n",
    "\n",
    "print ('out of sample (MSE): ', mean_squared_error(\n",
    "        list(actual_win_rate.values()), \n",
    "        list(predicted_win_rate.values())\n",
    "        )\n",
    "      )"
   ]
  },
  {
   "cell_type": "code",
   "execution_count": 30,
   "metadata": {
    "collapsed": true
   },
   "outputs": [],
   "source": [
    "# output prediction as excel file\n",
    "\n",
    "writer2 = pd.ExcelWriter('test predicted standing use diff as stats %s %s.xlsx'%(num_of_game_used_to_cal_ave, num_of_train_data))\n",
    "west_standing_pred.to_excel(writer2, sheet_name='west')\n",
    "east_standing_pred.to_excel(writer2, sheet_name='east')\n",
    "writer2.save()\n"
   ]
  },
  {
   "cell_type": "code",
   "execution_count": 31,
   "metadata": {
    "collapsed": true
   },
   "outputs": [],
   "source": [
    "# output actual as excel file\n",
    "\n",
    "writer = pd.ExcelWriter('test actual standing.xlsx')\n",
    "west_standing_actual.to_excel(writer, sheet_name='west')\n",
    "east_standing_actual.to_excel(writer, sheet_name='east')\n",
    "writer.save()\n"
   ]
  }
 ],
 "metadata": {
  "anaconda-cloud": {},
  "kernelspec": {
   "display_name": "Python 3",
   "language": "python",
   "name": "python3"
  },
  "language_info": {
   "codemirror_mode": {
    "name": "ipython",
    "version": 3
   },
   "file_extension": ".py",
   "mimetype": "text/x-python",
   "name": "python",
   "nbconvert_exporter": "python",
   "pygments_lexer": "ipython3",
   "version": "3.7.3"
  }
 },
 "nbformat": 4,
 "nbformat_minor": 1
}
